{
 "cells": [
  {
   "cell_type": "markdown",
   "id": "7efdb0e2",
   "metadata": {},
   "source": [
    "## Preprocessing"
   ]
  },
  {
   "cell_type": "code",
   "execution_count": 1,
   "id": "67ba9f41",
   "metadata": {},
   "outputs": [],
   "source": [
    "import pickle\n",
    "\n",
    "with open('data/palettes.pickle', 'rb') as f:\n",
    "    srgb_colors = pickle.load(f)"
   ]
  },
  {
   "cell_type": "code",
   "execution_count": 2,
   "id": "d3da304a",
   "metadata": {},
   "outputs": [],
   "source": [
    "from everyday_palette.palette import Palette\n",
    "\n",
    "palettes = [Palette.from_srgb_colors(colors) for colors in srgb_colors]"
   ]
  },
  {
   "cell_type": "code",
   "execution_count": 3,
   "id": "3b295b35",
   "metadata": {},
   "outputs": [],
   "source": [
    "from everyday_palette.processing import Processor\n",
    "\n",
    "processor = Processor()\n",
    "data = processor.fit_transform(palettes)\n",
    "processor.save('scaler.joblib')"
   ]
  },
  {
   "cell_type": "markdown",
   "id": "f28483ce",
   "metadata": {},
   "source": [
    "## Train"
   ]
  },
  {
   "cell_type": "code",
   "execution_count": 6,
   "id": "167b696c",
   "metadata": {},
   "outputs": [],
   "source": [
    "from everyday_palette.generating import Generator\n",
    "\n",
    "generator = Generator()\n",
    "generator.fit(data)"
   ]
  },
  {
   "cell_type": "code",
   "execution_count": 11,
   "id": "dc67c2bb",
   "metadata": {},
   "outputs": [],
   "source": [
    "generator.save('gmm.joblib')"
   ]
  }
 ],
 "metadata": {
  "kernelspec": {
   "display_name": ".venv",
   "language": "python",
   "name": "python3"
  },
  "language_info": {
   "codemirror_mode": {
    "name": "ipython",
    "version": 3
   },
   "file_extension": ".py",
   "mimetype": "text/x-python",
   "name": "python",
   "nbconvert_exporter": "python",
   "pygments_lexer": "ipython3",
   "version": "3.10.12"
  }
 },
 "nbformat": 4,
 "nbformat_minor": 5
}
