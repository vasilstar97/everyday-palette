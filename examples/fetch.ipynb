{
 "cells": [
  {
   "cell_type": "code",
   "execution_count": 2,
   "id": "443ced7f",
   "metadata": {},
   "outputs": [],
   "source": [
    "from everyday_palette.fetcher import Fetcher\n",
    "\n",
    "palettes = Fetcher().fetch_palettes()"
   ]
  },
  {
   "cell_type": "code",
   "execution_count": 6,
   "id": "99cdca7d",
   "metadata": {},
   "outputs": [],
   "source": [
    "import pickle\n",
    "\n",
    "with open('data/palettes.pickle', 'wb') as f:\n",
    "    pickle.dump(palettes, f)"
   ]
  }
 ],
 "metadata": {
  "kernelspec": {
   "display_name": ".venv",
   "language": "python",
   "name": "python3"
  },
  "language_info": {
   "codemirror_mode": {
    "name": "ipython",
    "version": 3
   },
   "file_extension": ".py",
   "mimetype": "text/x-python",
   "name": "python",
   "nbconvert_exporter": "python",
   "pygments_lexer": "ipython3",
   "version": "3.10.12"
  }
 },
 "nbformat": 4,
 "nbformat_minor": 5
}
